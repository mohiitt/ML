{
 "cells": [
  {
   "cell_type": "code",
   "execution_count": null,
   "metadata": {
    "execution": {
     "iopub.execute_input": "2024-09-24T03:39:08.757688Z",
     "iopub.status.busy": "2024-09-24T03:39:08.756271Z",
     "iopub.status.idle": "2024-09-24T03:39:08.764992Z",
     "shell.execute_reply": "2024-09-24T03:39:08.762979Z",
     "shell.execute_reply.started": "2024-09-24T03:39:08.757636Z"
    }
   },
   "outputs": [],
   "source": [
    "import pandas as pd\n",
    "import numpy as np\n",
    "import matplotlib.pyplot as plt\n",
    "import seaborn as sns\n",
    "from sklearn.model_selection import train_test_split"
   ]
  },
  {
   "cell_type": "code",
   "execution_count": null,
   "metadata": {
    "execution": {
     "iopub.execute_input": "2024-09-24T03:39:08.773457Z",
     "iopub.status.busy": "2024-09-24T03:39:08.771605Z",
     "iopub.status.idle": "2024-09-24T03:39:09.516505Z",
     "shell.execute_reply": "2024-09-24T03:39:09.515004Z",
     "shell.execute_reply.started": "2024-09-24T03:39:08.773365Z"
    }
   },
   "outputs": [],
   "source": [
    "df = pd.read_csv('uber.csv')\n",
    "df.info()"
   ]
  },
  {
   "cell_type": "code",
   "execution_count": null,
   "metadata": {
    "execution": {
     "iopub.execute_input": "2024-09-24T03:39:09.521120Z",
     "iopub.status.busy": "2024-09-24T03:39:09.519689Z",
     "iopub.status.idle": "2024-09-24T03:39:09.530546Z",
     "shell.execute_reply": "2024-09-24T03:39:09.528928Z",
     "shell.execute_reply.started": "2024-09-24T03:39:09.521056Z"
    }
   },
   "outputs": [],
   "source": [
    "df.shape"
   ]
  },
  {
   "cell_type": "code",
   "execution_count": null,
   "metadata": {
    "execution": {
     "iopub.execute_input": "2024-09-24T03:39:09.532588Z",
     "iopub.status.busy": "2024-09-24T03:39:09.532166Z",
     "iopub.status.idle": "2024-09-24T03:39:09.557921Z",
     "shell.execute_reply": "2024-09-24T03:39:09.555961Z",
     "shell.execute_reply.started": "2024-09-24T03:39:09.532550Z"
    }
   },
   "outputs": [],
   "source": [
    "df.head()"
   ]
  },
  {
   "cell_type": "code",
   "execution_count": null,
   "metadata": {
    "execution": {
     "iopub.execute_input": "2024-09-24T03:39:09.562370Z",
     "iopub.status.busy": "2024-09-24T03:39:09.561930Z",
     "iopub.status.idle": "2024-09-24T03:39:10.138738Z",
     "shell.execute_reply": "2024-09-24T03:39:10.136532Z",
     "shell.execute_reply.started": "2024-09-24T03:39:09.562332Z"
    }
   },
   "outputs": [],
   "source": [
    "df.isnull()"
   ]
  },
  {
   "cell_type": "code",
   "execution_count": null,
   "metadata": {
    "execution": {
     "iopub.execute_input": "2024-09-24T03:39:10.141548Z",
     "iopub.status.busy": "2024-09-24T03:39:10.140899Z",
     "iopub.status.idle": "2024-09-24T03:39:10.173712Z",
     "shell.execute_reply": "2024-09-24T03:39:10.172255Z",
     "shell.execute_reply.started": "2024-09-24T03:39:10.141497Z"
    }
   },
   "outputs": [],
   "source": [
    "df.drop(columns=[\"Unnamed: 0\", \"key\"], inplace=True)\n",
    "df.head()"
   ]
  },
  {
   "cell_type": "code",
   "execution_count": null,
   "metadata": {
    "execution": {
     "iopub.execute_input": "2024-09-24T03:39:10.176451Z",
     "iopub.status.busy": "2024-09-24T03:39:10.175909Z",
     "iopub.status.idle": "2024-09-24T03:39:10.216288Z",
     "shell.execute_reply": "2024-09-24T03:39:10.214675Z",
     "shell.execute_reply.started": "2024-09-24T03:39:10.176397Z"
    }
   },
   "outputs": [],
   "source": [
    "df.isnull().sum()"
   ]
  },
  {
   "cell_type": "code",
   "execution_count": null,
   "metadata": {
    "execution": {
     "iopub.execute_input": "2024-09-24T03:39:10.218726Z",
     "iopub.status.busy": "2024-09-24T03:39:10.218263Z",
     "iopub.status.idle": "2024-09-24T03:39:10.239119Z",
     "shell.execute_reply": "2024-09-24T03:39:10.237335Z",
     "shell.execute_reply.started": "2024-09-24T03:39:10.218686Z"
    }
   },
   "outputs": [],
   "source": [
    "df['dropoff_latitude'].fillna(value=df['dropoff_latitude'].mean(),inplace = True)\n",
    "df['dropoff_longitude'].fillna(value=df['dropoff_longitude'].median(),inplace = True)"
   ]
  },
  {
   "cell_type": "code",
   "execution_count": null,
   "metadata": {
    "execution": {
     "iopub.execute_input": "2024-09-24T03:39:10.241519Z",
     "iopub.status.busy": "2024-09-24T03:39:10.241016Z",
     "iopub.status.idle": "2024-09-24T03:39:10.253455Z",
     "shell.execute_reply": "2024-09-24T03:39:10.251844Z",
     "shell.execute_reply.started": "2024-09-24T03:39:10.241477Z"
    }
   },
   "outputs": [],
   "source": [
    "df.dtypes"
   ]
  },
  {
   "cell_type": "code",
   "execution_count": null,
   "metadata": {
    "execution": {
     "iopub.execute_input": "2024-09-24T03:39:10.255799Z",
     "iopub.status.busy": "2024-09-24T03:39:10.255244Z",
     "iopub.status.idle": "2024-09-24T03:39:10.265603Z",
     "shell.execute_reply": "2024-09-24T03:39:10.263729Z",
     "shell.execute_reply.started": "2024-09-24T03:39:10.255758Z"
    }
   },
   "outputs": [],
   "source": [
    "# From the above output, we see that the data type of 'pickup_datetime' is 'object\n",
    "# But 'pickup_datetime'is a date time stamp variable, which is wrongly interpreted as 'object', so we will convert this variable data type to 'datetime'."
   ]
  },
  {
   "cell_type": "code",
   "execution_count": null,
   "metadata": {
    "execution": {
     "iopub.execute_input": "2024-09-24T03:39:10.272310Z",
     "iopub.status.busy": "2024-09-24T03:39:10.271603Z",
     "iopub.status.idle": "2024-09-24T03:39:47.569351Z",
     "shell.execute_reply": "2024-09-24T03:39:47.567798Z",
     "shell.execute_reply.started": "2024-09-24T03:39:10.272263Z"
    }
   },
   "outputs": [],
   "source": [
    "df.pickup_datetime = pd.to_datetime(df.pickup_datetime)\n",
    "df.dtypes"
   ]
  },
  {
   "cell_type": "code",
   "execution_count": null,
   "metadata": {
    "execution": {
     "iopub.execute_input": "2024-09-24T03:39:47.571738Z",
     "iopub.status.busy": "2024-09-24T03:39:47.571130Z",
     "iopub.status.idle": "2024-09-24T03:39:47.579017Z",
     "shell.execute_reply": "2024-09-24T03:39:47.576985Z",
     "shell.execute_reply.started": "2024-09-24T03:39:47.571693Z"
    }
   },
   "outputs": [],
   "source": [
    "# we will extract time feature from the 'pickup_datetime' \n",
    "# we will add a variable which measures the distance between pickup and drop"
   ]
  },
  {
   "cell_type": "code",
   "execution_count": null,
   "metadata": {
    "execution": {
     "iopub.execute_input": "2024-09-24T03:39:47.581630Z",
     "iopub.status.busy": "2024-09-24T03:39:47.581141Z",
     "iopub.status.idle": "2024-09-24T03:39:47.729047Z",
     "shell.execute_reply": "2024-09-24T03:39:47.727447Z",
     "shell.execute_reply.started": "2024-09-24T03:39:47.581590Z"
    }
   },
   "outputs": [],
   "source": [
    "df = df.assign(hour = df.pickup_datetime.dt.hour,\n",
    "               day = df.pickup_datetime.dt.day,\n",
    "               month = df.pickup_datetime.dt.month,\n",
    "               year = df.pickup_datetime.dt.year,\n",
    "               dayofweek = df.pickup_datetime.dt.dayofweek)"
   ]
  },
  {
   "cell_type": "code",
   "execution_count": null,
   "metadata": {
    "execution": {
     "iopub.execute_input": "2024-09-24T03:39:47.731456Z",
     "iopub.status.busy": "2024-09-24T03:39:47.730972Z",
     "iopub.status.idle": "2024-09-24T03:39:47.764706Z",
     "shell.execute_reply": "2024-09-24T03:39:47.762998Z",
     "shell.execute_reply.started": "2024-09-24T03:39:47.731415Z"
    }
   },
   "outputs": [],
   "source": [
    "df"
   ]
  },
  {
   "cell_type": "code",
   "execution_count": null,
   "metadata": {
    "execution": {
     "iopub.execute_input": "2024-09-24T03:39:47.767152Z",
     "iopub.status.busy": "2024-09-24T03:39:47.766700Z",
     "iopub.status.idle": "2024-09-24T03:39:47.817415Z",
     "shell.execute_reply": "2024-09-24T03:39:47.815817Z",
     "shell.execute_reply.started": "2024-09-24T03:39:47.767111Z"
    }
   },
   "outputs": [],
   "source": [
    "df = df.drop([\"pickup_datetime\"], axis =1)\n",
    "df"
   ]
  },
  {
   "cell_type": "code",
   "execution_count": null,
   "metadata": {
    "execution": {
     "iopub.execute_input": "2024-09-24T03:39:47.819818Z",
     "iopub.status.busy": "2024-09-24T03:39:47.819345Z",
     "iopub.status.idle": "2024-09-24T03:39:47.831699Z",
     "shell.execute_reply": "2024-09-24T03:39:47.829758Z",
     "shell.execute_reply.started": "2024-09-24T03:39:47.819779Z"
    }
   },
   "outputs": [],
   "source": [
    "# function to calculate the travel distance from the longitudes and latitudes\n",
    "from math import *\n",
    "    \n",
    "def distance_formula(longitude1, latitude1, longitude2, latitude2):\n",
    "    travel_dist = []\n",
    "    \n",
    "    for pos in range (len(longitude1)):\n",
    "        lon1, lan1, lon2, lan2 = map(radians, [longitude1[pos], latitude1[pos], longitude2[pos], latitude2[pos]])\n",
    "        dist_lon = lon2 - lon1\n",
    "        dist_lan = lan2 - lan1\n",
    "        \n",
    "        a = sin(dist_lan/2)**2 + cos(lan1) * cos(lan2) * sin(dist_lon/2)**2\n",
    "        \n",
    "        #radius of earth = 6371\n",
    "        c = 2 * asin(sqrt(a)) * 6371 \n",
    "        travel_dist.append(c)\n",
    "            \n",
    "    return  travel_dist"
   ]
  },
  {
   "cell_type": "code",
   "execution_count": null,
   "metadata": {
    "execution": {
     "iopub.execute_input": "2024-09-24T03:39:47.833943Z",
     "iopub.status.busy": "2024-09-24T03:39:47.833509Z",
     "iopub.status.idle": "2024-09-24T03:39:48.650612Z",
     "shell.execute_reply": "2024-09-24T03:39:48.648759Z",
     "shell.execute_reply.started": "2024-09-24T03:39:47.833905Z"
    }
   },
   "outputs": [],
   "source": [
    "df['dist_travel_km'] = distance_formula(df.pickup_longitude.to_numpy(), df.pickup_latitude.to_numpy(), df.dropoff_longitude.to_numpy(), df.dropoff_latitude.to_numpy())"
   ]
  },
  {
   "cell_type": "code",
   "execution_count": null,
   "metadata": {
    "execution": {
     "iopub.execute_input": "2024-09-24T03:39:48.654183Z",
     "iopub.status.busy": "2024-09-24T03:39:48.653570Z",
     "iopub.status.idle": "2024-09-24T03:39:50.402974Z",
     "shell.execute_reply": "2024-09-24T03:39:50.401508Z",
     "shell.execute_reply.started": "2024-09-24T03:39:48.654128Z"
    },
    "scrolled": true
   },
   "outputs": [],
   "source": [
    "df.plot(kind = \"box\",subplots = True,layout = (6,2),figsize=(15,20)) #Boxplot to check the outliers\n",
    "plt.show()"
   ]
  },
  {
   "cell_type": "code",
   "execution_count": null,
   "metadata": {
    "execution": {
     "iopub.execute_input": "2024-09-24T03:39:50.405284Z",
     "iopub.status.busy": "2024-09-24T03:39:50.404866Z",
     "iopub.status.idle": "2024-09-24T03:39:50.415498Z",
     "shell.execute_reply": "2024-09-24T03:39:50.414059Z",
     "shell.execute_reply.started": "2024-09-24T03:39:50.405246Z"
    }
   },
   "outputs": [],
   "source": [
    "#Using the InterQuartile Range to fill the values\n",
    "def remove_outlier(df1 , col):\n",
    "    Q1 = df1[col].quantile(0.25)\n",
    "    Q3 = df1[col].quantile(0.75)\n",
    "    IQR = Q3 - Q1\n",
    "    lower_whisker = Q1-1.5*IQR\n",
    "    upper_whisker = Q3+1.5*IQR\n",
    "    df[col] = np.clip(df1[col] , lower_whisker , upper_whisker)\n",
    "    return df1\n",
    "\n",
    "def treat_outliers_all(df1 , col_list):\n",
    "    for c in col_list:\n",
    "        df1 = remove_outlier(df , c)\n",
    "    return df1"
   ]
  },
  {
   "cell_type": "code",
   "execution_count": null,
   "metadata": {
    "execution": {
     "iopub.execute_input": "2024-09-24T03:39:50.418353Z",
     "iopub.status.busy": "2024-09-24T03:39:50.417490Z",
     "iopub.status.idle": "2024-09-24T03:39:50.621132Z",
     "shell.execute_reply": "2024-09-24T03:39:50.619718Z",
     "shell.execute_reply.started": "2024-09-24T03:39:50.418313Z"
    },
    "scrolled": true
   },
   "outputs": [],
   "source": [
    "df = treat_outliers_all(df , df.iloc[: , 0::])"
   ]
  },
  {
   "cell_type": "code",
   "execution_count": null,
   "metadata": {
    "execution": {
     "iopub.execute_input": "2024-09-24T03:39:50.623522Z",
     "iopub.status.busy": "2024-09-24T03:39:50.623050Z",
     "iopub.status.idle": "2024-09-24T03:39:52.335687Z",
     "shell.execute_reply": "2024-09-24T03:39:52.333977Z",
     "shell.execute_reply.started": "2024-09-24T03:39:50.623482Z"
    }
   },
   "outputs": [],
   "source": [
    "#Boxplot shows that dataset is free from outliers\n",
    "df.plot(kind = \"box\",subplots = True,layout = (7,2),figsize=(15,20)) \n",
    "plt.show()"
   ]
  },
  {
   "cell_type": "code",
   "execution_count": null,
   "metadata": {
    "execution": {
     "iopub.execute_input": "2024-09-24T03:39:52.338340Z",
     "iopub.status.busy": "2024-09-24T03:39:52.337796Z",
     "iopub.status.idle": "2024-09-24T03:39:52.481646Z",
     "shell.execute_reply": "2024-09-24T03:39:52.480026Z",
     "shell.execute_reply.started": "2024-09-24T03:39:52.338287Z"
    }
   },
   "outputs": [],
   "source": [
    "#Function to find the correlation\n",
    "corr = df.corr() \n",
    "corr"
   ]
  },
  {
   "cell_type": "code",
   "execution_count": null,
   "metadata": {
    "execution": {
     "iopub.execute_input": "2024-09-24T03:39:52.484164Z",
     "iopub.status.busy": "2024-09-24T03:39:52.483717Z",
     "iopub.status.idle": "2024-09-24T03:39:53.888034Z",
     "shell.execute_reply": "2024-09-24T03:39:53.886335Z",
     "shell.execute_reply.started": "2024-09-24T03:39:52.484126Z"
    }
   },
   "outputs": [],
   "source": [
    "fig,axis = plt.subplots(figsize = (10,6))\n",
    "sns.heatmap(df.corr(),annot = True) #Correlation Heatmap (Light values means highly correlated)"
   ]
  },
  {
   "cell_type": "code",
   "execution_count": null,
   "metadata": {
    "execution": {
     "iopub.execute_input": "2024-09-24T03:39:53.890600Z",
     "iopub.status.busy": "2024-09-24T03:39:53.890084Z",
     "iopub.status.idle": "2024-09-24T03:39:53.906527Z",
     "shell.execute_reply": "2024-09-24T03:39:53.904194Z",
     "shell.execute_reply.started": "2024-09-24T03:39:53.890543Z"
    }
   },
   "outputs": [],
   "source": [
    "# Dividing the dataset into feature and target values \n",
    "# df_x = df[['pickup_longitude','pickup_latitude','dropoff_longitude','dropoff_latitude','passenger_count','hour','day','month','year','dayofweek','dist_travel_km']]\n",
    "\n",
    "df_x = df[['dist_travel_km']]\n",
    "df_y = df['fare_amount']"
   ]
  },
  {
   "cell_type": "code",
   "execution_count": null,
   "metadata": {
    "execution": {
     "iopub.execute_input": "2024-09-24T03:39:53.909682Z",
     "iopub.status.busy": "2024-09-24T03:39:53.908832Z",
     "iopub.status.idle": "2024-09-24T03:39:53.941762Z",
     "shell.execute_reply": "2024-09-24T03:39:53.940138Z",
     "shell.execute_reply.started": "2024-09-24T03:39:53.909630Z"
    }
   },
   "outputs": [],
   "source": [
    "# Dividing the dataset into training and testing dataset\n",
    "x_train, x_test, y_train, y_test = train_test_split(df_x.values, df_y, test_size=0.2, random_state=1)"
   ]
  },
  {
   "cell_type": "code",
   "execution_count": null,
   "metadata": {
    "execution": {
     "iopub.execute_input": "2024-09-24T03:39:53.944316Z",
     "iopub.status.busy": "2024-09-24T03:39:53.943828Z",
     "iopub.status.idle": "2024-09-24T03:39:53.980881Z",
     "shell.execute_reply": "2024-09-24T03:39:53.979039Z",
     "shell.execute_reply.started": "2024-09-24T03:39:53.944270Z"
    }
   },
   "outputs": [],
   "source": [
    "df"
   ]
  },
  {
   "cell_type": "code",
   "execution_count": null,
   "metadata": {
    "execution": {
     "iopub.execute_input": "2024-09-24T03:39:53.985447Z",
     "iopub.status.busy": "2024-09-24T03:39:53.983345Z",
     "iopub.status.idle": "2024-09-24T03:39:54.009724Z",
     "shell.execute_reply": "2024-09-24T03:39:54.005103Z",
     "shell.execute_reply.started": "2024-09-24T03:39:53.985343Z"
    }
   },
   "outputs": [],
   "source": [
    "from sklearn.linear_model import LinearRegression\n",
    "\n",
    "# initialize the linear regression model\n",
    "reg = LinearRegression()\n",
    "\n",
    "# Train the model with our training data\n",
    "reg.fit(x_train, y_train)"
   ]
  },
  {
   "cell_type": "code",
   "execution_count": null,
   "metadata": {
    "execution": {
     "iopub.execute_input": "2024-09-24T03:39:54.014611Z",
     "iopub.status.busy": "2024-09-24T03:39:54.014079Z",
     "iopub.status.idle": "2024-09-24T03:39:54.026620Z",
     "shell.execute_reply": "2024-09-24T03:39:54.023965Z",
     "shell.execute_reply.started": "2024-09-24T03:39:54.014567Z"
    }
   },
   "outputs": [],
   "source": [
    "y_pred_lin = reg.predict(x_test)\n",
    "print(y_pred_lin)"
   ]
  },
  {
   "cell_type": "code",
   "execution_count": null,
   "metadata": {
    "execution": {
     "iopub.execute_input": "2024-09-24T03:39:54.034967Z",
     "iopub.status.busy": "2024-09-24T03:39:54.034479Z",
     "iopub.status.idle": "2024-09-24T03:40:30.904535Z",
     "shell.execute_reply": "2024-09-24T03:40:30.902712Z",
     "shell.execute_reply.started": "2024-09-24T03:39:54.034928Z"
    }
   },
   "outputs": [],
   "source": [
    "from sklearn.ensemble import RandomForestRegressor\n",
    "\n",
    "#Here n_estimators means number of trees you want to build before making the prediction\n",
    "rf = RandomForestRegressor(n_estimators=100)\n",
    "rf.fit(x_train,y_train)"
   ]
  },
  {
   "cell_type": "code",
   "execution_count": null,
   "metadata": {
    "execution": {
     "iopub.execute_input": "2024-09-24T03:40:30.906730Z",
     "iopub.status.busy": "2024-09-24T03:40:30.906244Z",
     "iopub.status.idle": "2024-09-24T03:40:33.695066Z",
     "shell.execute_reply": "2024-09-24T03:40:33.693325Z",
     "shell.execute_reply.started": "2024-09-24T03:40:30.906691Z"
    }
   },
   "outputs": [],
   "source": [
    "y_pred_rf = rf.predict(x_test)\n",
    "print(y_pred_rf)"
   ]
  },
  {
   "cell_type": "code",
   "execution_count": null,
   "metadata": {
    "execution": {
     "iopub.execute_input": "2024-09-24T03:40:33.697185Z",
     "iopub.status.busy": "2024-09-24T03:40:33.696795Z",
     "iopub.status.idle": "2024-09-24T03:40:33.707900Z",
     "shell.execute_reply": "2024-09-24T03:40:33.706096Z",
     "shell.execute_reply.started": "2024-09-24T03:40:33.697149Z"
    }
   },
   "outputs": [],
   "source": [
    "cols = ['Model', 'RMSE', 'R-Squared']\n",
    "\n",
    "# create a empty dataframe of the colums\n",
    "# columns: specifies the columns to be selected\n",
    "result_tabulation = pd.DataFrame(columns = cols)"
   ]
  },
  {
   "cell_type": "code",
   "execution_count": null,
   "metadata": {
    "execution": {
     "iopub.execute_input": "2024-09-24T03:40:33.710190Z",
     "iopub.status.busy": "2024-09-24T03:40:33.709781Z",
     "iopub.status.idle": "2024-09-24T03:40:33.753049Z",
     "shell.execute_reply": "2024-09-24T03:40:33.751484Z",
     "shell.execute_reply.started": "2024-09-24T03:40:33.710153Z"
    }
   },
   "outputs": [],
   "source": [
    "from sklearn import metrics \n",
    "from sklearn.metrics import r2_score \n",
    "\n",
    "reg_MSE = metrics.mean_squared_error(y_test,y_pred_lin)\n",
    "reg_MAE = metrics.mean_absolute_error(y_test,y_pred_lin)\n",
    "reg_RMSE = np.sqrt(metrics.mean_squared_error(y_test, y_pred_lin))\n",
    "reg_squared = r2_score(y_test, y_pred_lin)\n",
    "\n",
    "full_metrics = pd.Series({'Model': \"Linear Regression\", 'RMSE' : reg_RMSE,'MSE' : reg_MSE, 'RMAE' : reg_MAE, 'R-Squared' : reg_squared})\n",
    "\n",
    "# append our result table using append()\n",
    "# ignore_index=True: does not use the index labels\n",
    "# python can only append a Series if ignore_index=True or if the Series has a name\n",
    "result_tabulation = result_tabulation.append(full_metrics, ignore_index = True)\n",
    "\n",
    "# print the result table\n",
    "result_tabulation\n",
    "\n",
    "rf_RMSE = np.sqrt(metrics.mean_squared_error(y_test, y_pred_rf))\n",
    "rf_squared = r2_score(y_test, y_pred_rf)\n",
    "rf_MSE = metrics.mean_squared_error(y_test,y_pred_rf)\n",
    "rf_MAE = metrics.mean_absolute_error(y_test,y_pred_rf)\n",
    "\n",
    "full_metrics = pd.Series({'Model': \"Random Forest \",'MSE' : rf_MSE, 'RMAE' : rf_MAE,'RMSE':rf_RMSE, 'R-Squared': rf_squared})\n",
    "# append our result table using append()\n",
    "# ignore_index=True: does not use the index labels\n",
    "# python can only append a Series if ignore_index=True or if the Series has a name\n",
    "result_tabulation = result_tabulation.append(full_metrics, ignore_index = True)\n",
    "\n",
    "# print the result table\n",
    "result_tabulation\n"
   ]
  },
  {
   "cell_type": "code",
   "execution_count": null,
   "metadata": {
    "execution": {
     "iopub.execute_input": "2024-09-24T03:40:33.755773Z",
     "iopub.status.busy": "2024-09-24T03:40:33.755151Z",
     "iopub.status.idle": "2024-09-24T03:40:34.623709Z",
     "shell.execute_reply": "2024-09-24T03:40:34.621606Z",
     "shell.execute_reply.started": "2024-09-24T03:40:33.755714Z"
    }
   },
   "outputs": [],
   "source": [
    "y_reg_line = reg.predict(df_x)\n",
    "plt.scatter(df_x,df_y,marker='x')\n",
    "plt.plot(df_x,y_reg_line,color='red')"
   ]
  },
  {
   "cell_type": "code",
   "execution_count": null,
   "metadata": {
    "execution": {
     "iopub.execute_input": "2024-09-24T03:40:34.627738Z",
     "iopub.status.busy": "2024-09-24T03:40:34.626658Z"
    }
   },
   "outputs": [],
   "source": [
    "input_dist = float(input(\"Enter distance travelled in KM: \"))\n",
    "input_arr = np.array([input_dist])\n",
    "input_arr = input_arr.reshape(1,-1)\n",
    "input_y_pred = reg.predict(input_arr)\n",
    "\n",
    "print(\"Your Estimated fare: \", input_y_pred)"
   ]
  }
 ],
 "metadata": {
  "kaggle": {
   "accelerator": "none",
   "dataSources": [
    {
     "datasetId": 1834623,
     "sourceId": 2994100,
     "sourceType": "datasetVersion"
    }
   ],
   "dockerImageVersionId": 30301,
   "isGpuEnabled": false,
   "isInternetEnabled": false,
   "language": "python",
   "sourceType": "notebook"
  },
  "kernelspec": {
   "display_name": "Python 3 (ipykernel)",
   "language": "python",
   "name": "python3"
  },
  "language_info": {
   "codemirror_mode": {
    "name": "ipython",
    "version": 3
   },
   "file_extension": ".py",
   "mimetype": "text/x-python",
   "name": "python",
   "nbconvert_exporter": "python",
   "pygments_lexer": "ipython3",
   "version": "3.9.7"
  }
 },
 "nbformat": 4,
 "nbformat_minor": 4
}
