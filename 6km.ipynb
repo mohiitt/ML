{
 "cells": [
  {
   "cell_type": "code",
   "execution_count": null,
   "id": "c4019d9c-05b3-49be-8dfd-444c72fe3fe0",
   "metadata": {},
   "outputs": [],
   "source": [
    "import pandas as pd\n",
    "import numpy as np\n",
    "import seaborn as sns\n",
    "import matplotlib.pyplot as plt\n",
    "from sklearn.preprocessing import StandardScaler\n",
    "from sklearn.cluster import KMeans\n",
    "from sklearn.metrics import silhouette_score"
   ]
  },
  {
   "cell_type": "code",
   "execution_count": null,
   "id": "14adc3b8-e468-4a89-9bd3-8d9ffe955828",
   "metadata": {},
   "outputs": [],
   "source": [
    "\n",
    "df = pd.read_csv('sales_data_sample.csv', encoding='ISO-8859-1')\n",
    "\n",
    "df"
   ]
  },
  {
   "cell_type": "code",
   "execution_count": null,
   "id": "e15b4822-09b7-420e-a228-fe0357c39617",
   "metadata": {},
   "outputs": [],
   "source": [
    "df.describe()"
   ]
  },
  {
   "cell_type": "code",
   "execution_count": null,
   "id": "c1cbd4b7-fdfd-4167-b514-3159352ee8b2",
   "metadata": {},
   "outputs": [],
   "source": [
    "df.head()"
   ]
  },
  {
   "cell_type": "code",
   "execution_count": null,
   "id": "5638c059-1489-484b-9f9e-e94c7d6662ab",
   "metadata": {},
   "outputs": [],
   "source": [
    "df.tail()"
   ]
  },
  {
   "cell_type": "code",
   "execution_count": null,
   "id": "a77f1960-714b-4728-8da0-d287ac4fd1a0",
   "metadata": {},
   "outputs": [],
   "source": [
    "\n",
    "#Relevant numeric features for clustering\n",
    "df_cluster = df[['SALES', 'QUANTITYORDERED', 'PRICEEACH']]\n",
    "scaler = StandardScaler()\n",
    "df_scaled = scaler.fit_transform(df_cluster)\n",
    "\n",
    "\n"
   ]
  },
  {
   "cell_type": "code",
   "execution_count": null,
   "id": "04d23344-cebd-4438-a82f-1be8ace70ba2",
   "metadata": {},
   "outputs": [],
   "source": [
    "#Finding optimal number of clusters\n",
    "\n",
    "wcss = []  # Within-cluster sum of squares (WCSS)\n",
    "k_values = range(1, 11)\n",
    "\n",
    "for k in k_values:\n",
    "    kmeans = KMeans(n_clusters=k, init='k-means++', random_state=42)\n",
    "    kmeans.fit(df_scaled)\n",
    "    wcss.append(kmeans.inertia_)  \n"
   ]
  },
  {
   "cell_type": "code",
   "execution_count": null,
   "id": "e1a51989-5448-436e-9aee-27b1f38b9984",
   "metadata": {},
   "outputs": [],
   "source": [
    "\n",
    "plt.figure(figsize=(8, 5))\n",
    "plt.plot(k_values, wcss, marker='o', linestyle='--')\n",
    "plt.title('Elbow Method to Determine Optimal Number of Clusters')\n",
    "plt.xlabel('Number of Clusters (K)')\n",
    "plt.ylabel('WCSS')\n",
    "plt.show()\n"
   ]
  },
  {
   "cell_type": "code",
   "execution_count": null,
   "id": "09e3e3db-faa1-4a30-9dcd-596a010e669b",
   "metadata": {},
   "outputs": [],
   "source": [
    "\n",
    "optimal_k = 3\n",
    "kmeans = KMeans(n_clusters=optimal_k, init='k-means++', random_state=42)\n",
    "y_kmeans = kmeans.fit_predict(df_scaled)\n",
    "df['Cluster'] = y_kmeans\n",
    "print(df[['SALES', 'QUANTITYORDERED', 'PRICEEACH', 'Cluster']].head())\n",
    "silhouette_avg = silhouette_score(df_scaled, y_kmeans)\n",
    "print(f\"Silhouette Score for {optimal_k} clusters: {silhouette_avg:.2f}\")"
   ]
  },
  {
   "cell_type": "code",
   "execution_count": null,
   "id": "8bd7129e-330f-4c56-8c64-f427ef3cc0a2",
   "metadata": {},
   "outputs": [],
   "source": [
    "\n",
    "plt.figure(figsize=(8, 5)) \n",
    "plt.scatter(df_scaled[:, 0], df_scaled[:, 1], c=y_kmeans, cmap='viridis') \n",
    "plt.title(f'K-Means Clustering with {optimal_k} Clusters') \n",
    "plt.xlabel('Feature 1: SALES') \n",
    "plt.ylabel('Feature 2: QUANTITYORDERED') \n",
    "plt.show() \n",
    "\n",
    " "
   ]
  },
  {
   "cell_type": "code",
   "execution_count": null,
   "id": "bd7c6116-35e1-49b0-992c-308233401fad",
   "metadata": {},
   "outputs": [],
   "source": []
  }
 ],
 "metadata": {
  "kernelspec": {
   "display_name": "Python 3 (ipykernel)",
   "language": "python",
   "name": "python3"
  },
  "language_info": {
   "codemirror_mode": {
    "name": "ipython",
    "version": 3
   },
   "file_extension": ".py",
   "mimetype": "text/x-python",
   "name": "python",
   "nbconvert_exporter": "python",
   "pygments_lexer": "ipython3",
   "version": "3.9.7"
  }
 },
 "nbformat": 4,
 "nbformat_minor": 5
}
