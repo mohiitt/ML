{
 "cells": [
  {
   "cell_type": "markdown",
   "id": "38fd52cc",
   "metadata": {},
   "source": [
    "# Implement K-Nearest Neighbors algorithm on diabetes.csv dataset.Compute confusion matrix, accuracy, error rate, precision and recallon the given dataset."
   ]
  },
  {
   "cell_type": "code",
   "execution_count": null,
   "id": "6782b06a",
   "metadata": {},
   "outputs": [],
   "source": [
    "import pandas as pd\n",
    "from sklearn.model_selection import train_test_split\n",
    "from sklearn.preprocessing import StandardScaler\n",
    "from sklearn.neighbors import KNeighborsClassifier\n",
    "from sklearn.metrics import confusion_matrix, accuracy_score, precision_score, recall_score"
   ]
  },
  {
   "cell_type": "code",
   "execution_count": null,
   "id": "9c291732",
   "metadata": {},
   "outputs": [],
   "source": [
    "df=pd.read_csv('diabetes.csv')"
   ]
  },
  {
   "cell_type": "code",
   "execution_count": null,
   "id": "b11c6772",
   "metadata": {},
   "outputs": [],
   "source": [
    "df"
   ]
  },
  {
   "cell_type": "code",
   "execution_count": null,
   "id": "e4af8f17",
   "metadata": {},
   "outputs": [],
   "source": [
    "df.info()"
   ]
  },
  {
   "cell_type": "code",
   "execution_count": null,
   "id": "1a56092e",
   "metadata": {},
   "outputs": [],
   "source": [
    "df.isnull().sum()"
   ]
  },
  {
   "cell_type": "code",
   "execution_count": null,
   "id": "a47ce649",
   "metadata": {},
   "outputs": [],
   "source": [
    "x=df.drop('Outcome',axis=1)\n",
    "y=df['Outcome'] #target"
   ]
  },
  {
   "cell_type": "code",
   "execution_count": null,
   "id": "b8f408a7",
   "metadata": {},
   "outputs": [],
   "source": [
    "x_train, x_test, y_train, y_test=train_test_split(x,y,test_size=0.25,random_state=42)\n",
    "scaler = StandardScaler()\n",
    "x_train = scaler.fit_transform(x_train)\n",
    "x_test = scaler.transform(x_test)\n"
   ]
  },
  {
   "cell_type": "code",
   "execution_count": null,
   "id": "c4c52661",
   "metadata": {},
   "outputs": [],
   "source": [
    "from sklearn.model_selection import GridSearchCV\n",
    "param_grid = {'n_neighbors': range(1, 21)} \n",
    "\n",
    "knn=KNeighborsClassifier()\n",
    "knn_cv = GridSearchCV(knn, param_grid, scoring='accuracy')\n",
    "knn_cv.fit(x_train, y_train)\n",
    "best_k = knn_cv.best_params_['n_neighbors']\n",
    "print(f\"\\nBest k value (grid search): {best_k}\")"
   ]
  },
  {
   "cell_type": "code",
   "execution_count": null,
   "id": "4c7492de",
   "metadata": {},
   "outputs": [],
   "source": [
    "k=int(input(\"Enter the value of k for k-nearest neighbors: \"))\n",
    "knn=KNeighborsClassifier(n_neighbors=k)\n",
    "knn.fit(x_train,y_train)\n",
    "\n",
    "y_pred=knn.predict(x_test)\n",
    "\n",
    "c_matrix=confusion_matrix(y_test,y_pred)\n",
    "accuracy=accuracy_score(y_test,y_pred)\n",
    "error_rate=1-accuracy\n",
    "precision=precision_score(y_test,y_pred)\n",
    "recall=recall_score(y_test,y_pred)\n",
    "\n",
    "print(f\"Confusion matrix:\\n{c_matrix}\")\n",
    "print(f\"accuracy: {accuracy*100:.2f}%\")\n",
    "print(f\"error rate : {error_rate*100:.2f}%\")\n",
    "print(f\"precision: {precision*100:.2f}%\")\n",
    "print(f\"recall: {recall*100:.2f}%\")"
   ]
  }
 ],
 "metadata": {
  "kernelspec": {
   "display_name": "Python 3 (ipykernel)",
   "language": "python",
   "name": "python3"
  },
  "language_info": {
   "codemirror_mode": {
    "name": "ipython",
    "version": 3
   },
   "file_extension": ".py",
   "mimetype": "text/x-python",
   "name": "python",
   "nbconvert_exporter": "python",
   "pygments_lexer": "ipython3",
   "version": "3.9.7"
  }
 },
 "nbformat": 4,
 "nbformat_minor": 5
}
